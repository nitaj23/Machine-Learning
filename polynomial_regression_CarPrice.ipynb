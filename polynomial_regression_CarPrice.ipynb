{
 "cells": [
  {
   "cell_type": "code",
   "execution_count": 2,
   "id": "48bc6506",
   "metadata": {},
   "outputs": [],
   "source": [
    "import math\n",
    "import copy\n",
    "import numpy as np\n",
    "import pandas as pd\n",
    "import matplotlib.pyplot as plt\n",
    "import seaborn as sns\n",
    "from sklearn.model_selection import train_test_split\n",
    "from sklearn.preprocessing import PolynomialFeatures"
   ]
  },
  {
   "cell_type": "code",
   "execution_count": 3,
   "id": "d7f58a38",
   "metadata": {},
   "outputs": [
    {
     "data": {
      "text/html": [
       "<div>\n",
       "<style scoped>\n",
       "    .dataframe tbody tr th:only-of-type {\n",
       "        vertical-align: middle;\n",
       "    }\n",
       "\n",
       "    .dataframe tbody tr th {\n",
       "        vertical-align: top;\n",
       "    }\n",
       "\n",
       "    .dataframe thead th {\n",
       "        text-align: right;\n",
       "    }\n",
       "</style>\n",
       "<table border=\"1\" class=\"dataframe\">\n",
       "  <thead>\n",
       "    <tr style=\"text-align: right;\">\n",
       "      <th></th>\n",
       "      <th>Name</th>\n",
       "      <th>Location</th>\n",
       "      <th>Year</th>\n",
       "      <th>Kilometers_Driven</th>\n",
       "      <th>Fuel_Type</th>\n",
       "      <th>Transmission</th>\n",
       "      <th>Owner_Type</th>\n",
       "      <th>Mileage</th>\n",
       "      <th>Engine</th>\n",
       "      <th>Power</th>\n",
       "      <th>Seats</th>\n",
       "      <th>Price</th>\n",
       "    </tr>\n",
       "  </thead>\n",
       "  <tbody>\n",
       "    <tr>\n",
       "      <th>0</th>\n",
       "      <td>Tata Tiago 1.2 Revotron XZ WO Alloy</td>\n",
       "      <td>Hyderabad</td>\n",
       "      <td>2017</td>\n",
       "      <td>16500</td>\n",
       "      <td>Petrol</td>\n",
       "      <td>Manual</td>\n",
       "      <td>First</td>\n",
       "      <td>23.84 kmpl</td>\n",
       "      <td>1199 CC</td>\n",
       "      <td>84 bhp</td>\n",
       "      <td>5.0</td>\n",
       "      <td>5.00</td>\n",
       "    </tr>\n",
       "    <tr>\n",
       "      <th>1</th>\n",
       "      <td>Mahindra TUV 300 2015-2019 mHAWK100 T8 AMT</td>\n",
       "      <td>Kochi</td>\n",
       "      <td>2017</td>\n",
       "      <td>47357</td>\n",
       "      <td>Diesel</td>\n",
       "      <td>Automatic</td>\n",
       "      <td>First</td>\n",
       "      <td>18.49 kmpl</td>\n",
       "      <td>1493 CC</td>\n",
       "      <td>100 bhp</td>\n",
       "      <td>7.0</td>\n",
       "      <td>8.37</td>\n",
       "    </tr>\n",
       "    <tr>\n",
       "      <th>2</th>\n",
       "      <td>Skoda Rapid 2013-2016 1.6 MPI Ambition</td>\n",
       "      <td>Mumbai</td>\n",
       "      <td>2014</td>\n",
       "      <td>35000</td>\n",
       "      <td>Petrol</td>\n",
       "      <td>Manual</td>\n",
       "      <td>First</td>\n",
       "      <td>15.0 kmpl</td>\n",
       "      <td>1598 CC</td>\n",
       "      <td>103.52 bhp</td>\n",
       "      <td>5.0</td>\n",
       "      <td>4.50</td>\n",
       "    </tr>\n",
       "    <tr>\n",
       "      <th>3</th>\n",
       "      <td>Tata Indica V2 DLS BSII</td>\n",
       "      <td>Jaipur</td>\n",
       "      <td>2007</td>\n",
       "      <td>200000</td>\n",
       "      <td>Diesel</td>\n",
       "      <td>Manual</td>\n",
       "      <td>Second</td>\n",
       "      <td>17.2 kmpl</td>\n",
       "      <td>1396 CC</td>\n",
       "      <td>53.5 bhp</td>\n",
       "      <td>5.0</td>\n",
       "      <td>0.85</td>\n",
       "    </tr>\n",
       "    <tr>\n",
       "      <th>4</th>\n",
       "      <td>Tata Manza Club Class Quadrajet90 LX</td>\n",
       "      <td>Mumbai</td>\n",
       "      <td>2013</td>\n",
       "      <td>64000</td>\n",
       "      <td>Diesel</td>\n",
       "      <td>Manual</td>\n",
       "      <td>Second</td>\n",
       "      <td>21.02 kmpl</td>\n",
       "      <td>1248 CC</td>\n",
       "      <td>88.76 bhp</td>\n",
       "      <td>5.0</td>\n",
       "      <td>2.65</td>\n",
       "    </tr>\n",
       "  </tbody>\n",
       "</table>\n",
       "</div>"
      ],
      "text/plain": [
       "                                         Name   Location  Year  \\\n",
       "0         Tata Tiago 1.2 Revotron XZ WO Alloy  Hyderabad  2017   \n",
       "1  Mahindra TUV 300 2015-2019 mHAWK100 T8 AMT      Kochi  2017   \n",
       "2      Skoda Rapid 2013-2016 1.6 MPI Ambition     Mumbai  2014   \n",
       "3                     Tata Indica V2 DLS BSII     Jaipur  2007   \n",
       "4        Tata Manza Club Class Quadrajet90 LX     Mumbai  2013   \n",
       "\n",
       "   Kilometers_Driven Fuel_Type Transmission Owner_Type     Mileage   Engine  \\\n",
       "0              16500    Petrol       Manual      First  23.84 kmpl  1199 CC   \n",
       "1              47357    Diesel    Automatic      First  18.49 kmpl  1493 CC   \n",
       "2              35000    Petrol       Manual      First   15.0 kmpl  1598 CC   \n",
       "3             200000    Diesel       Manual     Second   17.2 kmpl  1396 CC   \n",
       "4              64000    Diesel       Manual     Second  21.02 kmpl  1248 CC   \n",
       "\n",
       "        Power  Seats  Price  \n",
       "0      84 bhp    5.0   5.00  \n",
       "1     100 bhp    7.0   8.37  \n",
       "2  103.52 bhp    5.0   4.50  \n",
       "3    53.5 bhp    5.0   0.85  \n",
       "4   88.76 bhp    5.0   2.65  "
      ]
     },
     "execution_count": 3,
     "metadata": {},
     "output_type": "execute_result"
    }
   ],
   "source": [
    "data = pd.read_csv('Datasets/cars.csv')\n",
    "data.head()\n"
   ]
  },
  {
   "cell_type": "code",
   "execution_count": 4,
   "id": "13575128",
   "metadata": {},
   "outputs": [
    {
     "data": {
      "text/html": [
       "<div>\n",
       "<style scoped>\n",
       "    .dataframe tbody tr th:only-of-type {\n",
       "        vertical-align: middle;\n",
       "    }\n",
       "\n",
       "    .dataframe tbody tr th {\n",
       "        vertical-align: top;\n",
       "    }\n",
       "\n",
       "    .dataframe thead th {\n",
       "        text-align: right;\n",
       "    }\n",
       "</style>\n",
       "<table border=\"1\" class=\"dataframe\">\n",
       "  <thead>\n",
       "    <tr style=\"text-align: right;\">\n",
       "      <th></th>\n",
       "      <th>Name</th>\n",
       "      <th>Location</th>\n",
       "      <th>Year</th>\n",
       "      <th>Kilometers_Driven</th>\n",
       "      <th>Fuel_Type</th>\n",
       "      <th>Transmission</th>\n",
       "      <th>Owner_Type</th>\n",
       "      <th>Mileage</th>\n",
       "      <th>Engine</th>\n",
       "      <th>Power</th>\n",
       "      <th>Seats</th>\n",
       "      <th>Price</th>\n",
       "    </tr>\n",
       "  </thead>\n",
       "  <tbody>\n",
       "    <tr>\n",
       "      <th>0</th>\n",
       "      <td>Tata Tiago 1.2 Revotron XZ WO Alloy</td>\n",
       "      <td>Hyderabad</td>\n",
       "      <td>2017</td>\n",
       "      <td>16500</td>\n",
       "      <td>Petrol</td>\n",
       "      <td>Manual</td>\n",
       "      <td>First</td>\n",
       "      <td>23.84</td>\n",
       "      <td>1199.0</td>\n",
       "      <td>84.00</td>\n",
       "      <td>5.0</td>\n",
       "      <td>5.00</td>\n",
       "    </tr>\n",
       "    <tr>\n",
       "      <th>1</th>\n",
       "      <td>Mahindra TUV 300 2015-2019 mHAWK100 T8 AMT</td>\n",
       "      <td>Kochi</td>\n",
       "      <td>2017</td>\n",
       "      <td>47357</td>\n",
       "      <td>Diesel</td>\n",
       "      <td>Automatic</td>\n",
       "      <td>First</td>\n",
       "      <td>18.49</td>\n",
       "      <td>1493.0</td>\n",
       "      <td>100.00</td>\n",
       "      <td>7.0</td>\n",
       "      <td>8.37</td>\n",
       "    </tr>\n",
       "    <tr>\n",
       "      <th>2</th>\n",
       "      <td>Skoda Rapid 2013-2016 1.6 MPI Ambition</td>\n",
       "      <td>Mumbai</td>\n",
       "      <td>2014</td>\n",
       "      <td>35000</td>\n",
       "      <td>Petrol</td>\n",
       "      <td>Manual</td>\n",
       "      <td>First</td>\n",
       "      <td>15.00</td>\n",
       "      <td>1598.0</td>\n",
       "      <td>103.52</td>\n",
       "      <td>5.0</td>\n",
       "      <td>4.50</td>\n",
       "    </tr>\n",
       "    <tr>\n",
       "      <th>3</th>\n",
       "      <td>Tata Indica V2 DLS BSII</td>\n",
       "      <td>Jaipur</td>\n",
       "      <td>2007</td>\n",
       "      <td>200000</td>\n",
       "      <td>Diesel</td>\n",
       "      <td>Manual</td>\n",
       "      <td>Second</td>\n",
       "      <td>17.20</td>\n",
       "      <td>1396.0</td>\n",
       "      <td>53.50</td>\n",
       "      <td>5.0</td>\n",
       "      <td>0.85</td>\n",
       "    </tr>\n",
       "    <tr>\n",
       "      <th>4</th>\n",
       "      <td>Tata Manza Club Class Quadrajet90 LX</td>\n",
       "      <td>Mumbai</td>\n",
       "      <td>2013</td>\n",
       "      <td>64000</td>\n",
       "      <td>Diesel</td>\n",
       "      <td>Manual</td>\n",
       "      <td>Second</td>\n",
       "      <td>21.02</td>\n",
       "      <td>1248.0</td>\n",
       "      <td>88.76</td>\n",
       "      <td>5.0</td>\n",
       "      <td>2.65</td>\n",
       "    </tr>\n",
       "  </tbody>\n",
       "</table>\n",
       "</div>"
      ],
      "text/plain": [
       "                                         Name   Location  Year  \\\n",
       "0         Tata Tiago 1.2 Revotron XZ WO Alloy  Hyderabad  2017   \n",
       "1  Mahindra TUV 300 2015-2019 mHAWK100 T8 AMT      Kochi  2017   \n",
       "2      Skoda Rapid 2013-2016 1.6 MPI Ambition     Mumbai  2014   \n",
       "3                     Tata Indica V2 DLS BSII     Jaipur  2007   \n",
       "4        Tata Manza Club Class Quadrajet90 LX     Mumbai  2013   \n",
       "\n",
       "   Kilometers_Driven Fuel_Type Transmission Owner_Type  Mileage  Engine  \\\n",
       "0              16500    Petrol       Manual      First    23.84  1199.0   \n",
       "1              47357    Diesel    Automatic      First    18.49  1493.0   \n",
       "2              35000    Petrol       Manual      First    15.00  1598.0   \n",
       "3             200000    Diesel       Manual     Second    17.20  1396.0   \n",
       "4              64000    Diesel       Manual     Second    21.02  1248.0   \n",
       "\n",
       "    Power  Seats  Price  \n",
       "0   84.00    5.0   5.00  \n",
       "1  100.00    7.0   8.37  \n",
       "2  103.52    5.0   4.50  \n",
       "3   53.50    5.0   0.85  \n",
       "4   88.76    5.0   2.65  "
      ]
     },
     "execution_count": 4,
     "metadata": {},
     "output_type": "execute_result"
    }
   ],
   "source": [
    "for col in ['Mileage', 'Power', 'Engine']:\n",
    "    data[col] = data[col].astype(str).str.split().str[0]\n",
    "    data[col] = pd.to_numeric(data[col], errors='coerce')\n",
    "data.head()"
   ]
  },
  {
   "cell_type": "code",
   "execution_count": 5,
   "id": "76866c19",
   "metadata": {},
   "outputs": [
    {
     "name": "stdout",
     "output_type": "stream",
     "text": [
      "<class 'pandas.core.frame.DataFrame'>\n",
      "RangeIndex: 5000 entries, 0 to 4999\n",
      "Data columns (total 12 columns):\n",
      " #   Column             Non-Null Count  Dtype  \n",
      "---  ------             --------------  -----  \n",
      " 0   Name               5000 non-null   object \n",
      " 1   Location           5000 non-null   object \n",
      " 2   Year               5000 non-null   int64  \n",
      " 3   Kilometers_Driven  5000 non-null   int64  \n",
      " 4   Fuel_Type          5000 non-null   object \n",
      " 5   Transmission       5000 non-null   object \n",
      " 6   Owner_Type         5000 non-null   object \n",
      " 7   Mileage            4998 non-null   float64\n",
      " 8   Engine             4966 non-null   float64\n",
      " 9   Power              4877 non-null   float64\n",
      " 10  Seats              4961 non-null   float64\n",
      " 11  Price              5000 non-null   float64\n",
      "dtypes: float64(5), int64(2), object(5)\n",
      "memory usage: 468.9+ KB\n"
     ]
    }
   ],
   "source": [
    "data.info()"
   ]
  },
  {
   "cell_type": "code",
   "execution_count": 6,
   "id": "0fa685a0",
   "metadata": {},
   "outputs": [
    {
     "data": {
      "text/html": [
       "<div>\n",
       "<style scoped>\n",
       "    .dataframe tbody tr th:only-of-type {\n",
       "        vertical-align: middle;\n",
       "    }\n",
       "\n",
       "    .dataframe tbody tr th {\n",
       "        vertical-align: top;\n",
       "    }\n",
       "\n",
       "    .dataframe thead th {\n",
       "        text-align: right;\n",
       "    }\n",
       "</style>\n",
       "<table border=\"1\" class=\"dataframe\">\n",
       "  <thead>\n",
       "    <tr style=\"text-align: right;\">\n",
       "      <th></th>\n",
       "      <th>Year</th>\n",
       "      <th>Kilometers_Driven</th>\n",
       "      <th>Mileage</th>\n",
       "      <th>Engine</th>\n",
       "      <th>Power</th>\n",
       "      <th>Seats</th>\n",
       "      <th>Price</th>\n",
       "    </tr>\n",
       "  </thead>\n",
       "  <tbody>\n",
       "    <tr>\n",
       "      <th>count</th>\n",
       "      <td>5000.000000</td>\n",
       "      <td>5.000000e+03</td>\n",
       "      <td>4998.000000</td>\n",
       "      <td>4966.000000</td>\n",
       "      <td>4877.000000</td>\n",
       "      <td>4961.000000</td>\n",
       "      <td>5000.000000</td>\n",
       "    </tr>\n",
       "    <tr>\n",
       "      <th>mean</th>\n",
       "      <td>2013.343600</td>\n",
       "      <td>5.916074e+04</td>\n",
       "      <td>18.043994</td>\n",
       "      <td>1627.133105</td>\n",
       "      <td>113.811363</td>\n",
       "      <td>5.284015</td>\n",
       "      <td>9.567026</td>\n",
       "    </tr>\n",
       "    <tr>\n",
       "      <th>std</th>\n",
       "      <td>3.255589</td>\n",
       "      <td>9.900590e+04</td>\n",
       "      <td>4.499215</td>\n",
       "      <td>597.513864</td>\n",
       "      <td>53.321507</td>\n",
       "      <td>0.813547</td>\n",
       "      <td>11.190188</td>\n",
       "    </tr>\n",
       "    <tr>\n",
       "      <th>min</th>\n",
       "      <td>1998.000000</td>\n",
       "      <td>1.710000e+02</td>\n",
       "      <td>0.000000</td>\n",
       "      <td>72.000000</td>\n",
       "      <td>34.200000</td>\n",
       "      <td>0.000000</td>\n",
       "      <td>0.440000</td>\n",
       "    </tr>\n",
       "    <tr>\n",
       "      <th>25%</th>\n",
       "      <td>2011.000000</td>\n",
       "      <td>3.400000e+04</td>\n",
       "      <td>15.100000</td>\n",
       "      <td>1198.000000</td>\n",
       "      <td>78.000000</td>\n",
       "      <td>5.000000</td>\n",
       "      <td>3.500000</td>\n",
       "    </tr>\n",
       "    <tr>\n",
       "      <th>50%</th>\n",
       "      <td>2014.000000</td>\n",
       "      <td>5.321200e+04</td>\n",
       "      <td>18.110000</td>\n",
       "      <td>1495.000000</td>\n",
       "      <td>98.600000</td>\n",
       "      <td>5.000000</td>\n",
       "      <td>5.700000</td>\n",
       "    </tr>\n",
       "    <tr>\n",
       "      <th>75%</th>\n",
       "      <td>2016.000000</td>\n",
       "      <td>7.300000e+04</td>\n",
       "      <td>20.890000</td>\n",
       "      <td>1991.000000</td>\n",
       "      <td>140.000000</td>\n",
       "      <td>5.000000</td>\n",
       "      <td>10.175000</td>\n",
       "    </tr>\n",
       "    <tr>\n",
       "      <th>max</th>\n",
       "      <td>2019.000000</td>\n",
       "      <td>6.500000e+06</td>\n",
       "      <td>28.400000</td>\n",
       "      <td>5461.000000</td>\n",
       "      <td>550.000000</td>\n",
       "      <td>10.000000</td>\n",
       "      <td>160.000000</td>\n",
       "    </tr>\n",
       "  </tbody>\n",
       "</table>\n",
       "</div>"
      ],
      "text/plain": [
       "              Year  Kilometers_Driven      Mileage       Engine        Power  \\\n",
       "count  5000.000000       5.000000e+03  4998.000000  4966.000000  4877.000000   \n",
       "mean   2013.343600       5.916074e+04    18.043994  1627.133105   113.811363   \n",
       "std       3.255589       9.900590e+04     4.499215   597.513864    53.321507   \n",
       "min    1998.000000       1.710000e+02     0.000000    72.000000    34.200000   \n",
       "25%    2011.000000       3.400000e+04    15.100000  1198.000000    78.000000   \n",
       "50%    2014.000000       5.321200e+04    18.110000  1495.000000    98.600000   \n",
       "75%    2016.000000       7.300000e+04    20.890000  1991.000000   140.000000   \n",
       "max    2019.000000       6.500000e+06    28.400000  5461.000000   550.000000   \n",
       "\n",
       "             Seats        Price  \n",
       "count  4961.000000  5000.000000  \n",
       "mean      5.284015     9.567026  \n",
       "std       0.813547    11.190188  \n",
       "min       0.000000     0.440000  \n",
       "25%       5.000000     3.500000  \n",
       "50%       5.000000     5.700000  \n",
       "75%       5.000000    10.175000  \n",
       "max      10.000000   160.000000  "
      ]
     },
     "execution_count": 6,
     "metadata": {},
     "output_type": "execute_result"
    }
   ],
   "source": [
    "data.describe()"
   ]
  },
  {
   "cell_type": "code",
   "execution_count": 7,
   "id": "d6af6a06",
   "metadata": {},
   "outputs": [
    {
     "data": {
      "text/plain": [
       "Index(['Year', 'Kilometers_Driven', 'Mileage', 'Engine', 'Power', 'Seats',\n",
       "       'Price'],\n",
       "      dtype='object')"
      ]
     },
     "execution_count": 7,
     "metadata": {},
     "output_type": "execute_result"
    }
   ],
   "source": [
    "num_cols = data.select_dtypes(include=('number')).columns\n",
    "num_cols"
   ]
  },
  {
   "cell_type": "code",
   "execution_count": 8,
   "id": "02d21246",
   "metadata": {},
   "outputs": [],
   "source": [
    "# Cleaning data\n",
    "clean_data = data.copy()\n",
    "clean_data[num_cols] = clean_data[num_cols].replace('?', pd.NA).apply(pd.to_numeric)\n",
    "clean_data.replace(-1, pd.NA, inplace=True)\n",
    "clean_data.fillna(clean_data.mean(numeric_only=True), inplace=True)"
   ]
  },
  {
   "cell_type": "code",
   "execution_count": 9,
   "id": "e1239e44",
   "metadata": {},
   "outputs": [],
   "source": [
    "# Removing Outliers\n",
    "for col in num_cols:\n",
    "    Q1 = clean_data[col].quantile(0.25)\n",
    "    Q3 = clean_data[col].quantile(0.75)\n",
    "    IQR = Q3 - Q1\n",
    "    low = Q1 - 1.5*IQR\n",
    "    high = Q3 + 1.5*IQR\n",
    "    clean_data[col] = clean_data[col].astype(float)\n",
    "    median = clean_data[col].median()\n",
    "    clean_data.loc[(clean_data[col] < low) | (clean_data[col] > high), col] = median\n",
    "clean_data[num_cols] = clean_data[num_cols].fillna(clean_data[num_cols].mean())\n"
   ]
  },
  {
   "cell_type": "code",
   "execution_count": 10,
   "id": "50211dda",
   "metadata": {},
   "outputs": [
    {
     "name": "stdout",
     "output_type": "stream",
     "text": [
      "<class 'pandas.core.frame.DataFrame'>\n",
      "RangeIndex: 5000 entries, 0 to 4999\n",
      "Data columns (total 12 columns):\n",
      " #   Column             Non-Null Count  Dtype  \n",
      "---  ------             --------------  -----  \n",
      " 0   Name               5000 non-null   object \n",
      " 1   Location           5000 non-null   object \n",
      " 2   Year               5000 non-null   float64\n",
      " 3   Kilometers_Driven  5000 non-null   float64\n",
      " 4   Fuel_Type          5000 non-null   object \n",
      " 5   Transmission       5000 non-null   object \n",
      " 6   Owner_Type         5000 non-null   object \n",
      " 7   Mileage            5000 non-null   float64\n",
      " 8   Engine             5000 non-null   float64\n",
      " 9   Power              5000 non-null   float64\n",
      " 10  Seats              5000 non-null   float64\n",
      " 11  Price              5000 non-null   float64\n",
      "dtypes: float64(7), object(5)\n",
      "memory usage: 468.9+ KB\n"
     ]
    }
   ],
   "source": [
    "clean_data.info()"
   ]
  },
  {
   "cell_type": "code",
   "execution_count": 12,
   "id": "04f862c3",
   "metadata": {},
   "outputs": [],
   "source": [
    "def one_hot_encode(df, col):\n",
    "    df_encoded = df.copy()\n",
    "    df_encoded = pd.get_dummies(df, columns=col, prefix=col, dtype=int)\n",
    "    return df_encoded"
   ]
  },
  {
   "cell_type": "code",
   "execution_count": 13,
   "id": "a3e8e714",
   "metadata": {},
   "outputs": [],
   "source": [
    "def ordinal_encode(df, col_order_map):\n",
    "    df_encoded = df.copy()\n",
    "    for col, order in col_order_map.items():\n",
    "        mapping = {c:i for i,c in enumerate(order)}\n",
    "        df_encoded[col] = df_encoded[col].map(mapping)\n",
    "    return df_encoded"
   ]
  },
  {
   "cell_type": "code",
   "execution_count": 14,
   "id": "31ca8d87",
   "metadata": {},
   "outputs": [],
   "source": [
    "def zscore_normalize_features(x, mean = None, std = None):\n",
    "    if mean is None:\n",
    "        mean = np.mean(x, axis=0)\n",
    "    if std is None:\n",
    "        std = np.std(x,axis=0)\n",
    "    safe_std = np.where(std == 0, 1, std)\n",
    "    x_norm = (x - mean)/safe_std\n",
    "    return x_norm, mean, std"
   ]
  },
  {
   "cell_type": "code",
   "execution_count": 15,
   "id": "539744eb",
   "metadata": {},
   "outputs": [],
   "source": [
    "def compute_cost(x, y, w, b, lam):\n",
    "    m = x.shape[0]\n",
    "    y_prediction = np.dot(x, w) + b\n",
    "    se = (y_prediction - y)**2\n",
    "    cost = (1/(2*m))*(np.sum(se) + (lam*np.sum(w**2)))\n",
    "    return cost"
   ]
  },
  {
   "cell_type": "code",
   "execution_count": 16,
   "id": "08ce371f",
   "metadata": {},
   "outputs": [],
   "source": [
    "def compute_gradient(x, y, w, b, lam):\n",
    "    m,n = x.shape\n",
    "    y_prediction = np.dot(x, w) + b\n",
    "    error = (y_prediction - y)\n",
    "    dw = (1/m)*(np.dot(x.transpose(), error) + lam*w)\n",
    "    db = (1/m)*np.sum(error)\n",
    "    return dw, db"
   ]
  },
  {
   "cell_type": "code",
   "execution_count": 17,
   "id": "03dfd9b3",
   "metadata": {},
   "outputs": [],
   "source": [
    "def gradient_descent(x, y, w_i, b_i, learning_rate, lam, epsilon=1e-6, max_iter=10000):\n",
    "    i = 0\n",
    "    w = copy.deepcopy(w_i)\n",
    "    b = b_i\n",
    "    prev_cost = float('inf')\n",
    "    while True:\n",
    "        dw, db = compute_gradient(x, y, w, b, lam) \n",
    "        gradient_norm = math.sqrt(np.sum(dw**2) + db**2)\n",
    "        cost = compute_cost(x, y, w, b, lam)\n",
    "        if (gradient_norm < epsilon ) or (abs(prev_cost - cost) < epsilon):\n",
    "            break;\n",
    "        if i >= max_iter:\n",
    "            break;\n",
    "        w -= learning_rate*dw\n",
    "        b -= learning_rate*db\n",
    "        if i % 100 == 0:\n",
    "            print(f'Iteration {i}: Cost = {cost}')\n",
    "        prev_cost = cost\n",
    "        i += 1\n",
    "    return w, b\n"
   ]
  },
  {
   "cell_type": "code",
   "execution_count": 18,
   "id": "500d5131",
   "metadata": {},
   "outputs": [],
   "source": [
    "def predict(x, w, b):\n",
    "    prediction = np.dot(x, w) + b\n",
    "    return prediction"
   ]
  },
  {
   "cell_type": "code",
   "execution_count": 19,
   "id": "327f66dc",
   "metadata": {},
   "outputs": [
    {
     "data": {
      "text/plain": [
       "Transmission\n",
       "Automatic    8.539595\n",
       "Manual       5.194975\n",
       "Name: Price, dtype: float64"
      ]
     },
     "execution_count": 19,
     "metadata": {},
     "output_type": "execute_result"
    }
   ],
   "source": [
    "am_price = clean_data.groupby('Transmission')['Price'].mean()\n",
    "am_price"
   ]
  },
  {
   "cell_type": "code",
   "execution_count": 20,
   "id": "67428a4d",
   "metadata": {},
   "outputs": [
    {
     "data": {
      "text/plain": [
       "Fuel_Type\n",
       "Diesel       7.379362\n",
       "Electric    12.875000\n",
       "Petrol       4.746113\n",
       "Name: Price, dtype: float64"
      ]
     },
     "execution_count": 20,
     "metadata": {},
     "output_type": "execute_result"
    }
   ],
   "source": [
    "fuel_price = clean_data.groupby('Fuel_Type')['Price'].mean()\n",
    "fuel_price"
   ]
  },
  {
   "cell_type": "code",
   "execution_count": 21,
   "id": "66046b85",
   "metadata": {},
   "outputs": [
    {
     "data": {
      "image/png": "[encoded data removed]",
      "text/plain": [
       "<Figure size 500x300 with 1 Axes>"
      ]
     },
     "metadata": {},
     "output_type": "display_data"
    }
   ],
   "source": [
    "year_price = pd.DataFrame(clean_data.groupby('Year')['Price'].mean())\n",
    "plt.figure(figsize=(5,3))\n",
    "sns.scatterplot(x='Year', y='Price', data=year_price)\n",
    "plt.title('Year vs Price of cars')\n",
    "plt.show()"
   ]
  },
  {
   "cell_type": "code",
   "execution_count": 22,
   "id": "05928d9f",
   "metadata": {},
   "outputs": [],
   "source": [
    "clean_data['Brand'] = clean_data['Name'].apply(lambda s: s.split()[0])"
   ]
  },
  {
   "cell_type": "code",
   "execution_count": 23,
   "id": "61b0363b",
   "metadata": {},
   "outputs": [
    {
     "data": {
      "text/html": [
       "<div>\n",
       "<style scoped>\n",
       "    .dataframe tbody tr th:only-of-type {\n",
       "        vertical-align: middle;\n",
       "    }\n",
       "\n",
       "    .dataframe tbody tr th {\n",
       "        vertical-align: top;\n",
       "    }\n",
       "\n",
       "    .dataframe thead th {\n",
       "        text-align: right;\n",
       "    }\n",
       "</style>\n",
       "<table border=\"1\" class=\"dataframe\">\n",
       "  <thead>\n",
       "    <tr style=\"text-align: right;\">\n",
       "      <th></th>\n",
       "      <th>Name</th>\n",
       "      <th>Year</th>\n",
       "      <th>Kilometers_Driven</th>\n",
       "      <th>Transmission</th>\n",
       "      <th>Owner_Type</th>\n",
       "      <th>Mileage</th>\n",
       "      <th>Engine</th>\n",
       "      <th>Power</th>\n",
       "      <th>Seats</th>\n",
       "      <th>Price</th>\n",
       "      <th>...</th>\n",
       "      <th>Brand_Renault</th>\n",
       "      <th>Brand_Skoda</th>\n",
       "      <th>Brand_Smart</th>\n",
       "      <th>Brand_Tata</th>\n",
       "      <th>Brand_Toyota</th>\n",
       "      <th>Brand_Volkswagen</th>\n",
       "      <th>Brand_Volvo</th>\n",
       "      <th>Fuel_Type_Diesel</th>\n",
       "      <th>Fuel_Type_Electric</th>\n",
       "      <th>Fuel_Type_Petrol</th>\n",
       "    </tr>\n",
       "  </thead>\n",
       "  <tbody>\n",
       "    <tr>\n",
       "      <th>0</th>\n",
       "      <td>Tata Tiago 1.2 Revotron XZ WO Alloy</td>\n",
       "      <td>2017.0</td>\n",
       "      <td>16500.0</td>\n",
       "      <td>0</td>\n",
       "      <td>0</td>\n",
       "      <td>23.84</td>\n",
       "      <td>1199.0</td>\n",
       "      <td>84.00</td>\n",
       "      <td>5.0</td>\n",
       "      <td>5.00</td>\n",
       "      <td>...</td>\n",
       "      <td>0</td>\n",
       "      <td>0</td>\n",
       "      <td>0</td>\n",
       "      <td>1</td>\n",
       "      <td>0</td>\n",
       "      <td>0</td>\n",
       "      <td>0</td>\n",
       "      <td>0</td>\n",
       "      <td>0</td>\n",
       "      <td>1</td>\n",
       "    </tr>\n",
       "    <tr>\n",
       "      <th>1</th>\n",
       "      <td>Mahindra TUV 300 2015-2019 mHAWK100 T8 AMT</td>\n",
       "      <td>2017.0</td>\n",
       "      <td>47357.0</td>\n",
       "      <td>1</td>\n",
       "      <td>0</td>\n",
       "      <td>18.49</td>\n",
       "      <td>1493.0</td>\n",
       "      <td>100.00</td>\n",
       "      <td>5.0</td>\n",
       "      <td>8.37</td>\n",
       "      <td>...</td>\n",
       "      <td>0</td>\n",
       "      <td>0</td>\n",
       "      <td>0</td>\n",
       "      <td>0</td>\n",
       "      <td>0</td>\n",
       "      <td>0</td>\n",
       "      <td>0</td>\n",
       "      <td>1</td>\n",
       "      <td>0</td>\n",
       "      <td>0</td>\n",
       "    </tr>\n",
       "    <tr>\n",
       "      <th>2</th>\n",
       "      <td>Skoda Rapid 2013-2016 1.6 MPI Ambition</td>\n",
       "      <td>2014.0</td>\n",
       "      <td>35000.0</td>\n",
       "      <td>0</td>\n",
       "      <td>0</td>\n",
       "      <td>15.00</td>\n",
       "      <td>1598.0</td>\n",
       "      <td>103.52</td>\n",
       "      <td>5.0</td>\n",
       "      <td>4.50</td>\n",
       "      <td>...</td>\n",
       "      <td>0</td>\n",
       "      <td>1</td>\n",
       "      <td>0</td>\n",
       "      <td>0</td>\n",
       "      <td>0</td>\n",
       "      <td>0</td>\n",
       "      <td>0</td>\n",
       "      <td>0</td>\n",
       "      <td>0</td>\n",
       "      <td>1</td>\n",
       "    </tr>\n",
       "  </tbody>\n",
       "</table>\n",
       "<p>3 rows × 53 columns</p>\n",
       "</div>"
      ],
      "text/plain": [
       "                                         Name    Year  Kilometers_Driven  \\\n",
       "0         Tata Tiago 1.2 Revotron XZ WO Alloy  2017.0            16500.0   \n",
       "1  Mahindra TUV 300 2015-2019 mHAWK100 T8 AMT  2017.0            47357.0   \n",
       "2      Skoda Rapid 2013-2016 1.6 MPI Ambition  2014.0            35000.0   \n",
       "\n",
       "   Transmission  Owner_Type  Mileage  Engine   Power  Seats  Price  ...  \\\n",
       "0             0           0    23.84  1199.0   84.00    5.0   5.00  ...   \n",
       "1             1           0    18.49  1493.0  100.00    5.0   8.37  ...   \n",
       "2             0           0    15.00  1598.0  103.52    5.0   4.50  ...   \n",
       "\n",
       "   Brand_Renault  Brand_Skoda  Brand_Smart  Brand_Tata  Brand_Toyota  \\\n",
       "0              0            0            0           1             0   \n",
       "1              0            0            0           0             0   \n",
       "2              0            1            0           0             0   \n",
       "\n",
       "   Brand_Volkswagen  Brand_Volvo  Fuel_Type_Diesel  Fuel_Type_Electric  \\\n",
       "0                 0            0                 0                   0   \n",
       "1                 0            0                 1                   0   \n",
       "2                 0            0                 0                   0   \n",
       "\n",
       "   Fuel_Type_Petrol  \n",
       "0                 1  \n",
       "1                 0  \n",
       "2                 1  \n",
       "\n",
       "[3 rows x 53 columns]"
      ]
     },
     "execution_count": 23,
     "metadata": {},
     "output_type": "execute_result"
    }
   ],
   "source": [
    "encoded_data = one_hot_encode(clean_data, col=['Location', 'Brand', 'Fuel_Type'])\n",
    "encode_col = ['Owner_Type', 'Transmission']\n",
    "col_order_map = {}\n",
    "for col in encode_col:\n",
    "    col_order_map[col] = clean_data[col].unique()\n",
    "encoded_data = ordinal_encode(encoded_data, col_order_map)\n",
    "encoded_data.head(3)\n"
   ]
  },
  {
   "cell_type": "code",
   "execution_count": 24,
   "id": "70fa8cc5",
   "metadata": {},
   "outputs": [],
   "source": [
    "x= encoded_data.drop(columns=['Price','Name'])\n",
    "y = encoded_data['Price'].values\n",
    "x_train, x_test, y_train, y_test = train_test_split(x, y, test_size=0.25, random_state=42)\n",
    "x_train = x_train.to_numpy()\n",
    "x_test = x_test.to_numpy()\n",
    "x_features = x.columns\n"
   ]
  },
  {
   "cell_type": "code",
   "execution_count": 25,
   "id": "e7a778f4",
   "metadata": {},
   "outputs": [],
   "source": [
    "poly = PolynomialFeatures(degree=2, include_bias=False)\n",
    "x_train_poly = poly.fit_transform(x_train)\n",
    "x_test_poly = poly.transform(x_test)\n",
    "x_train_norm, mean, std = zscore_normalize_features(x_train_poly)\n",
    "x_test_norm, _, _ = zscore_normalize_features(x_test_poly, mean, std)\n",
    "y_train_log = np.log1p(y_train)\n",
    "y_test_log = np.log1p(y_test)"
   ]
  },
  {
   "cell_type": "code",
   "execution_count": 26,
   "id": "4d060165",
   "metadata": {},
   "outputs": [
    {
     "name": "stdout",
     "output_type": "stream",
     "text": [
      "Iteration 0: Cost = 1.8188489366838754\n",
      "Iteration 100: Cost = 0.030557950574907018\n",
      "Iteration 200: Cost = 0.02902817831454935\n",
      "Iteration 300: Cost = 0.028274952378621935\n",
      "Iteration 400: Cost = 0.02779402632463908\n",
      "Iteration 500: Cost = 0.027450792612002284\n",
      "Iteration 600: Cost = 0.02719166556431969\n",
      "Iteration 700: Cost = 0.026989050140394565\n",
      "Iteration 800: Cost = 0.026826436837845347\n",
      "Iteration 900: Cost = 0.026693107123629625\n",
      "Iteration 1000: Cost = 0.02658176184385398\n",
      "0.026567615665463045\n",
      "[ 0.06432018 -0.01393264  0.03029999 ...  0.00245427  0.\n",
      " -0.01017523] 1.8382924474567992\n"
     ]
    }
   ],
   "source": [
    "w_i = np.zeros(x_train_poly.shape[1])\n",
    "b_i = 0\n",
    "learning_rate = 0.06\n",
    "lam = 0.1\n",
    "w, b = gradient_descent(x_train_norm, y_train_log, w_i, b_i, learning_rate, lam)\n",
    "final_cost = compute_cost(x_train_norm, y_train_log, w, b, lam)\n",
    "print(final_cost)\n",
    "print(w, b)"
   ]
  },
  {
   "cell_type": "code",
   "execution_count": 27,
   "id": "8606d13b",
   "metadata": {},
   "outputs": [
    {
     "name": "stdout",
     "output_type": "stream",
     "text": [
      "Predicted prices: [ 4.72854158  4.13618846  4.00102718 ...  2.90401505 11.68591476\n",
      "  1.48905406]\n",
      "Actual values:  [ 5.76  4.39  4.15 ...  2.9  10.2   1.5 ]\n"
     ]
    }
   ],
   "source": [
    "y_pred_log = predict(x_test_norm, w, b)\n",
    "prediction = np.expm1(y_pred_log)\n",
    "print('Predicted prices:', prediction)\n",
    "print('Actual values: ', y_test)"
   ]
  },
  {
   "cell_type": "code",
   "execution_count": 28,
   "id": "3fd0214a",
   "metadata": {},
   "outputs": [
    {
     "name": "stdout",
     "output_type": "stream",
     "text": [
      "R² score (log scale): 0.8136416919665136\n"
     ]
    }
   ],
   "source": [
    "y_log_mean = y_test_log.mean()\n",
    "ss_reg_log = np.sum((y_pred_log - y_log_mean) ** 2)\n",
    "ss_total_log = np.sum((y_test_log - y_log_mean) ** 2)\n",
    "R2_log = ss_reg_log / ss_total_log\n",
    "print('R² score (log scale):', R2_log)\n"
   ]
  },
  {
   "cell_type": "code",
   "execution_count": 29,
   "id": "5e61444c",
   "metadata": {},
   "outputs": [
    {
     "data": {
      "image/png": "[encoded data removed]",
      "text/plain": [
       "<Figure size 800x500 with 1 Axes>"
      ]
     },
     "metadata": {},
     "output_type": "display_data"
    }
   ],
   "source": [
    "plt.figure(figsize=(8, 5))\n",
    "plt.scatter(y_test, prediction, color='orange', alpha=0.75, label='Predicted Price')\n",
    "plt.plot([min(y_test), max(y_test)], [min(y_test), max(y_test)], 'y--', label='Perfect Prediction')\n",
    "plt.xlabel('Actual Price')\n",
    "plt.ylabel('Predicted Price')\n",
    "plt.title('Predicted vs Actual price')\n",
    "plt.grid(True)\n",
    "plt.legend()\n",
    "plt.show()"
   ]
  },
  {
   "cell_type": "code",
   "execution_count": null,
   "id": "221dea6b",
   "metadata": {},
   "outputs": [],
   "source": []
  }
 ],
 "metadata": {
  "kernelspec": {
   "display_name": "base",
   "language": "python",
   "name": "python3"
  },
  "language_info": {
   "codemirror_mode": {
    "name": "ipython",
    "version": 3
   },
   "file_extension": ".py",
   "mimetype": "text/x-python",
   "name": "python",
   "nbconvert_exporter": "python",
   "pygments_lexer": "ipython3",
   "version": "3.12.7"
  }
 },
 "nbformat": 4,
 "nbformat_minor": 5
}
